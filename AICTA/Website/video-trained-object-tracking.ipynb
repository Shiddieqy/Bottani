{
 "cells": [
  {
   "cell_type": "code",
   "execution_count": 2,
   "metadata": {},
   "outputs": [],
   "source": [
    "import cv2\n",
    "import numpy as np\n",
    "from datetime import datetime\n",
    "import pickle"
   ]
  },
  {
   "cell_type": "code",
   "execution_count": 3,
   "metadata": {},
   "outputs": [
    {
     "data": {
      "text/plain": [
       "'4.8.0'"
      ]
     },
     "execution_count": 3,
     "metadata": {},
     "output_type": "execute_result"
    }
   ],
   "source": [
    "cv2.__version__"
   ]
  },
  {
   "cell_type": "code",
   "execution_count": 3,
   "metadata": {},
   "outputs": [],
   "source": [
    "cap = cv2.VideoCapture(\"test-video.mp4\")\n",
    "if(cap.isOpened()==False):\n",
    "    print(\"Error opening video  or file\")"
   ]
  },
  {
   "cell_type": "code",
   "execution_count": 29,
   "metadata": {},
   "outputs": [],
   "source": [
    "cap = cv2.VideoCapture(\"test-video3.mp4\")\n",
    "if(cap.isOpened()==False):\n",
    "    print(\"Error opening video  or file\")"
   ]
  },
  {
   "cell_type": "code",
   "execution_count": 37,
   "metadata": {},
   "outputs": [
    {
     "name": "stdout",
     "output_type": "stream",
     "text": [
      "1\n",
      "2\n",
      "3\n",
      "4\n",
      "5\n",
      "6\n",
      "7\n"
     ]
    }
   ],
   "source": [
    "cap = cv2.VideoCapture(\"screen-record-tanaman-trimmed.mp4\")\n",
    "if(cap.isOpened()==False):\n",
    "    print(\"Error opening video  or file\")\n",
    "    \n",
    "cv2.namedWindow(\"Track\")\n",
    "cv2.resizeWindow(\"Track\",700,512)\n",
    "threshold_area = 3000\n",
    "\n",
    "def track(x):\n",
    "    return x\n",
    "\n",
    "file = open(\"tracker-data.txt\", \"rb\")\n",
    "trackerData = pickle.load(file)\n",
    "\n",
    "h_min = trackerData[\"h_min\"]\n",
    "h_max = trackerData[\"h_max\"]\n",
    "s_min = trackerData[\"s_min\"]\n",
    "s_max = trackerData[\"s_max\"]\n",
    "v_min = trackerData[\"v_min\"]\n",
    "v_max = trackerData[\"v_max\"]\n",
    "a_min = trackerData[\"a_min\"]\n",
    "a_max = trackerData[\"a_max\"]\n",
    "\n",
    "file.close()\n",
    "cv2.createTrackbar('hue min', 'Track', h_min,179,track)\n",
    "cv2.createTrackbar('hue max', 'Track', h_max,179,track)\n",
    "cv2.createTrackbar('sat min', 'Track', s_min,255,track)\n",
    "cv2.createTrackbar('sat max', 'Track', s_max,255,track)\n",
    "cv2.createTrackbar('val min', 'Track', v_min,255,track)\n",
    "cv2.createTrackbar('val max', 'Track', v_max,255,track)\n",
    "cv2.createTrackbar('area min', 'Track', a_min,5000,track)\n",
    "cv2.createTrackbar('area max', 'Track', a_max,50000,track)\n",
    "\n",
    "tracker = cv2.legacy.TrackerMOSSE_create()\n",
    "width  = cap.get(3)   # float `width`\n",
    "height = cap.get(4)\n",
    "id_no = []\n",
    "x_id = []\n",
    "y_id = []\n",
    "check_id = []\n",
    "count_id = 0\n",
    "identified = 0\n",
    "\n",
    "scale_percent = 40# percent of original size\n",
    "width = int(width * scale_percent / 100)\n",
    "height = int(height * scale_percent / 100)\n",
    "dim = (width, height)\n",
    "\n",
    "def is_inside(x,y,xg,yg,wg,hg):\n",
    "    if (x+width/2 > xg and x+width/2 <xg+wg and (-1*y+height/2) > yg and (-1*y+height/2) < yg+hg):\n",
    "        return True\n",
    "    else :\n",
    "        return False\n",
    "    \n",
    "while (cap.isOpened()):\n",
    "   \n",
    "    _,frame = cap.read() \n",
    "    if _ == True:\n",
    "            # Press Q on keyboard to  exit\n",
    "        if cv2.waitKey(10) & 0xFF == ord('q'):\n",
    "           break\n",
    "        hsv_frame = cv2.cvtColor(frame, cv2.COLOR_BGR2HSV)\n",
    "        h_min = cv2.getTrackbarPos('hue min', 'Track')\n",
    "        h_max = cv2.getTrackbarPos('hue max', 'Track')\n",
    "        s_min = cv2.getTrackbarPos('sat min', 'Track')\n",
    "        s_max = cv2.getTrackbarPos('sat max', 'Track')\n",
    "        v_min = cv2.getTrackbarPos('val min', 'Track')\n",
    "        v_max = cv2.getTrackbarPos('val max', 'Track')\n",
    "        a_min = cv2.getTrackbarPos('area min', 'Track')\n",
    "        a_max = cv2.getTrackbarPos('area max', 'Track')\n",
    "\n",
    "        #mask\n",
    "        lower = np.array([h_min, s_min, v_min])\n",
    "        upper = np.array([h_max,s_max,v_max])\n",
    "        #mask green\n",
    "        # lower = np.array([27, 86, 58])\n",
    "        # upper = np.array([93,210,231])\n",
    "        mask = cv2.inRange(hsv_frame, lower,upper)\n",
    "\n",
    "\n",
    "        cn= cv2.findContours(mask.copy(), cv2.RETR_EXTERNAL,cv2.CHAIN_APPROX_SIMPLE)[-2]\n",
    "\n",
    "        # Setiap contour yang terdetect alias setiap tanaman yang terdetect\n",
    "        for i in cn:\n",
    "            # area = max(cn,key = cv2.contourArea)\n",
    "\n",
    "            area = cv2.contourArea(i)        \n",
    "            # Luas contour harus lebih besar daripada sekian biar dianggap tanaman \n",
    "            if area > a_min and area < a_max:\n",
    "            # if area > threshold_area: \n",
    "                (xg,yg,wg,hg)=cv2.boundingRect(i)\n",
    "                cv2.rectangle(frame,(xg,yg),(xg+wg,yg+hg),(255,0,0),3)\n",
    "                xcord = xg+wg/2-width/2\n",
    "                ycord = -1*(yg+hg/2-height/2)\n",
    "                # print(\"x : \",xcord, \"y : \",ycord)\n",
    "                # print(xg,yg,wg,hg)\n",
    "\n",
    "                # Kalau bukan tanaman pertama\n",
    "                if (len(id_no)>0 and ycord > -height/2 and ycord > -height/2):\n",
    "                    identified = 0\n",
    "                    for j in range(len(id_no)) :\n",
    "                        if (is_inside(x_id[j],y_id[j],xg,yg,wg,hg)):\n",
    "                            x_id[j] = xcord\n",
    "                            y_id[j] = ycord\n",
    "                            identified = 1\n",
    "                            check_id[j] = 1\n",
    "                            cv2.putText(frame, str(id_no[j]), (xg,yg-10), cv2.FONT_HERSHEY_SIMPLEX, 0.9, (255,255,0), 2)\n",
    "                            break\n",
    "\n",
    "                # Not identified tapi ada di pinggir frame kamera, jadi pasti baru  \n",
    "                if((((not identified or len(id_no) == 0) and (xg == 0 or xg+wg == width or yg == 0 or yg+hg == height))) and ycord > -height/2 ):\n",
    "                    count_id += 1\n",
    "                    print(count_id)\n",
    "                    id_no.append(count_id)\n",
    "                    check_id.append(1)\n",
    "                    x_id.append(xcord)\n",
    "                    y_id.append(ycord)\n",
    "                    cv2.rectangle(frame,(xg,yg),(xg+wg,yg+hg),(0,0,255),3)\n",
    "                # Not identified, berada di tengah frame,dan pasti punya tetangga\n",
    "                elif (not identified and len(id_no) > 0 and ycord > -height/2):\n",
    "                    # Sisi miring frame kamera\n",
    "                    rmax = (width*width + height*height)\n",
    "                    identity = 0\n",
    "\n",
    "                    for k in range(len(id_no)):\n",
    "                        # Jarak tanaman yang mau dikasih id dengan tanaman yang sudah di kasih id sebelumnya\n",
    "                        rvalue = (xcord - x_id[k])**2 +(ycord - y_id[k])**2\n",
    "                        # Mencari id (identity) jarak tanaman yang paling dekat dengan tanaman yang mau di kasih id (rvalue)\n",
    "                        if(rvalue < rmax):\n",
    "                            rmax = rvalue\n",
    "                            identity = k\n",
    "                    \n",
    "                    # Check id = apakah id ini sudah di identified atau belum, check id adalah array of bool (1 = udah pernah, 0 = belom)\n",
    "                    if (check_id[identity]==0  ):\n",
    "                        x_id[identity] = xcord\n",
    "                        y_id[identity] = ycord\n",
    "                        identified = 1\n",
    "                        check_id[identity] = 1\n",
    "\n",
    "        # reset semua setelah satu frame, hapus id yang udah ga kebaca lagi\n",
    "        for l in range(len(id_no)-1,-1,-1):\n",
    "            if (check_id[l]==0):\n",
    "                check_id.pop(l)\n",
    "                id_no.pop(l)\n",
    "                x_id.pop(l)\n",
    "                y_id.pop(l)\n",
    "            else :\n",
    "                check_id[l] = 0\n",
    "                \n",
    "        cv2.drawMarker(frame, (int(width/2), int(height/2)),  (0, 255, 255), cv2.MARKER_CROSS, 10, 1)\n",
    "        \n",
    "        total_plants = str(len(id_no))\n",
    "\n",
    "        # print(\"Total plants : {} IDs: {} id_count: {}\".format(total_plants, id_no, count_id))        \n",
    "        # resize frame\n",
    "        resized = cv2.resize(frame, dim, interpolation = cv2.INTER_AREA)\n",
    "        \n",
    "        cv2.imshow('ori',resized)\n",
    "        # cv2.resizeWindow(\"ori\",700,512)\n",
    "        _, encoded_frame = cv2.imencode('.jpg', frame)\n",
    "\n",
    "        resized_mask = cv2.resize(mask, dim, interpolation = cv2.INTER_AREA)\n",
    "        cv2.imshow('hsv',resized_mask)\n",
    "        # cv2.resizeWindow(\"hsv\",700,512)\n",
    "        \n",
    "    else:\n",
    "        print('no video')\n",
    "        cap.set(cv2.CAP_PROP_POS_FRAMES, 0)\n",
    "        continue\n",
    "cap.release()\n",
    "cv2.destroyAllWindows()\n",
    "\n",
    "\n",
    "\n",
    "trackerData = {\n",
    "    \"h_min\" : h_min,\n",
    "    \"h_max\" : h_max,\n",
    "    \"s_min\" : s_min,\n",
    "    \"s_max\" : s_max,\n",
    "    \"v_min\" : v_min,\n",
    "    \"v_max\" : v_max,\n",
    "    \"a_min\" : a_min,\n",
    "    \"a_max\" : a_max\n",
    "}\n",
    "file = open(\"tracker-data.txt\",\"wb\")\n",
    "pickle.dump(trackerData ,file)\n",
    "file.close()"
   ]
  },
  {
   "cell_type": "code",
   "execution_count": 23,
   "metadata": {},
   "outputs": [],
   "source": [
    "cap.release()\n",
    "cv2.destroyAllWindows()"
   ]
  },
  {
   "cell_type": "code",
   "execution_count": 34,
   "metadata": {},
   "outputs": [],
   "source": [
    "import pickle"
   ]
  },
  {
   "cell_type": "markdown",
   "metadata": {},
   "source": [
    "        h_min = cv2.getTrackbarPos('hue min', 'Track')\n",
    "        h_max = cv2.getTrackbarPos('hue max', 'Track')\n",
    "        s_min = cv2.getTrackbarPos('sat min', 'Track')\n",
    "        s_max = cv2.getTrackbarPos('sat max', 'Track')\n",
    "        v_min = cv2.getTrackbarPos('val min', 'Track')\n",
    "        v_max = cv2.getTrackbarPos('val max', 'Track')"
   ]
  },
  {
   "cell_type": "code",
   "execution_count": 31,
   "metadata": {},
   "outputs": [],
   "source": [
    "h_min = 1\n",
    "h_max = 2\n",
    "s_min = 3\n",
    "s_max = 4\n",
    "v_min = 5\n",
    "v_max = 6\n",
    "a_min = 7\n",
    "a_max = 8\n",
    "trackerData = {\n",
    "    \"h_min\" : h_min,\n",
    "    \"h_max\" : h_max,\n",
    "    \"s_min\" : s_min,\n",
    "    \"s_max\" : s_max,\n",
    "    \"v_min\" : v_min,\n",
    "    \"v_max\" : v_max,\n",
    "    \"a_min\" : a_min,\n",
    "    \"a_max\" : a_max\n",
    "}\n",
    "file = open(\"tracker-data.txt\",\"wb\")\n",
    "\n",
    "pickle.dump(trackerData,file)\n",
    "file.close()"
   ]
  },
  {
   "cell_type": "code",
   "execution_count": 56,
   "metadata": {},
   "outputs": [],
   "source": [
    "import json"
   ]
  },
  {
   "cell_type": "code",
   "execution_count": 63,
   "metadata": {},
   "outputs": [
    {
     "name": "stdout",
     "output_type": "stream",
     "text": [
      "1\n"
     ]
    }
   ],
   "source": [
    "file = open(\"test.txt\", \"rb\")\n",
    "test2 = pickle.load(file)\n",
    "\n",
    "\n",
    "print(test2[\"h_min\"])\n",
    "\n",
    "file.close()"
   ]
  }
 ],
 "metadata": {
  "kernelspec": {
   "display_name": "Python 3",
   "language": "python",
   "name": "python3"
  },
  "language_info": {
   "codemirror_mode": {
    "name": "ipython",
    "version": 3
   },
   "file_extension": ".py",
   "mimetype": "text/x-python",
   "name": "python",
   "nbconvert_exporter": "python",
   "pygments_lexer": "ipython3",
   "version": "3.11.5"
  },
  "orig_nbformat": 4
 },
 "nbformat": 4,
 "nbformat_minor": 2
}
